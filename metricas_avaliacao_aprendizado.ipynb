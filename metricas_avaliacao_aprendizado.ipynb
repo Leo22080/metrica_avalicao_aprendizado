{
  "cells": [
    {
      "cell_type": "markdown",
      "metadata": {
        "id": "view-in-github",
        "colab_type": "text"
      },
      "source": [
        "<a href=\"https://colab.research.google.com/github/Leo22080/metrica_avalicao_aprendizado/blob/main/metricas_avaliacao_aprendizado.ipynb\" target=\"_parent\"><img src=\"https://colab.research.google.com/assets/colab-badge.svg\" alt=\"Open In Colab\"/></a>"
      ]
    },
    {
      "cell_type": "markdown",
      "source": [
        "# Métricas de Avaliação de Aprendizado"
      ],
      "metadata": {
        "id": "rOnDrV1tvvVj"
      }
    },
    {
      "cell_type": "code",
      "execution_count": null,
      "metadata": {
        "id": "tJG5a9Rq0gGZ"
      },
      "outputs": [],
      "source": [
        "from tensorflow import keras\n",
        "import tensorflow as tf\n",
        "import numpy as np\n",
        "import matplotlib.pyplot as plt\n",
        "import seaborn as sns\n",
        "import pandas as pd"
      ]
    },
    {
      "cell_type": "code",
      "execution_count": null,
      "metadata": {
        "id": "FDV2PR6t06EU",
        "colab": {
          "base_uri": "https://localhost:8080/"
        },
        "outputId": "e08d23cf-f13e-445a-be06-9217790200ca"
      },
      "outputs": [
        {
          "output_type": "stream",
          "name": "stdout",
          "text": [
            "Downloading data from https://storage.googleapis.com/tensorflow/tf-keras-datasets/mnist.npz\n",
            "11490434/11490434 [==============================] - 2s 0us/step\n"
          ]
        }
      ],
      "source": [
        "mnist = keras.datasets.mnist\n",
        "\n",
        "(train_images, train_labels), (test_images, test_labels) = mnist.load_data()"
      ]
    },
    {
      "cell_type": "code",
      "execution_count": null,
      "metadata": {
        "colab": {
          "base_uri": "https://localhost:8080/"
        },
        "id": "T97h6y-E0-P-",
        "outputId": "d48fa532-e9c5-4838-d883-59eaccdf5d1a"
      },
      "outputs": [
        {
          "output_type": "stream",
          "name": "stdout",
          "text": [
            "(60000, 28, 28)\n",
            "(10000, 28, 28)\n",
            "[0 1 2 3 4 5 6 7 8 9]\n"
          ]
        }
      ],
      "source": [
        "print(train_images.shape)\n",
        "print(test_images.shape)\n",
        "print(np.unique(train_labels))"
      ]
    },
    {
      "cell_type": "code",
      "execution_count": null,
      "metadata": {
        "colab": {
          "base_uri": "https://localhost:8080/",
          "height": 283
        },
        "id": "2DF1ouP71DeG",
        "outputId": "e1adeb3b-0749-46b2-8f57-393ac242aeab"
      },
      "outputs": [
        {
          "output_type": "execute_result",
          "data": {
            "text/plain": [
              "<matplotlib.colorbar.Colorbar at 0x7fb73aba47c0>"
            ]
          },
          "metadata": {},
          "execution_count": 4
        },
        {
          "output_type": "display_data",
          "data": {
            "text/plain": [
              "<Figure size 432x288 with 2 Axes>"
            ],
            "image/png": "[encoded data removed]"
          },
          "metadata": {
            "needs_background": "light"
          }
        }
      ],
      "source": [
        "plt.figure()\n",
        "plt.imshow(train_images[0], cmap='binary')\n",
        "plt.colorbar()"
      ]
    },
    {
      "cell_type": "code",
      "execution_count": null,
      "metadata": {
        "colab": {
          "base_uri": "https://localhost:8080/"
        },
        "id": "QLdOMTr01uaQ",
        "outputId": "d93c39f8-60bd-4b98-bcbd-12e755fef75f"
      },
      "outputs": [
        {
          "output_type": "stream",
          "name": "stdout",
          "text": [
            "Model: \"sequential\"\n",
            "_________________________________________________________________\n",
            " Layer (type)                Output Shape              Param #   \n",
            "=================================================================\n",
            " conv2d (Conv2D)             (None, 28, 28, 32)        832       \n",
            "                                                                 \n",
            " max_pooling2d (MaxPooling2D  (None, 14, 14, 32)       0         \n",
            " )                                                               \n",
            "                                                                 \n",
            " conv2d_1 (Conv2D)           (None, 14, 14, 64)        51264     \n",
            "                                                                 \n",
            " max_pooling2d_1 (MaxPooling  (None, 7, 7, 64)         0         \n",
            " 2D)                                                             \n",
            "                                                                 \n",
            " flatten (Flatten)           (None, 3136)              0         \n",
            "                                                                 \n",
            " dense (Dense)               (None, 1024)              3212288   \n",
            "                                                                 \n",
            " dense_1 (Dense)             (None, 10)                10250     \n",
            "                                                                 \n",
            "=================================================================\n",
            "Total params: 3,274,634\n",
            "Trainable params: 3,274,634\n",
            "Non-trainable params: 0\n",
            "_________________________________________________________________\n"
          ]
        }
      ],
      "source": [
        "model = keras.Sequential()\n",
        "\n",
        "model.add(keras.layers.Conv2D(filters=32, kernel_size=5, padding='same', activation='relu', input_shape=(28,28,1)))\n",
        "\n",
        "model.add(keras.layers.MaxPooling2D(pool_size=[2,2], strides=2))          \n",
        "          \n",
        "model.add(keras.layers.Conv2D(filters=64, kernel_size=5, padding='same', activation='relu', input_shape=(28,28,1)))\n",
        "\n",
        "model.add(keras.layers.MaxPooling2D(pool_size=[2,2], strides=2))\n",
        "\n",
        "model.add(keras.layers.Flatten())\n",
        "model.add(keras.layers.Dense(1024, activation='relu'))\n",
        "model.add(keras.layers.Dense(10, activation='softmax'))\n",
        "\n",
        "model.compile(optimizer='adam', loss='sparse_categorical_crossentropy',metrics=['accuracy'])\n",
        "model.summary()"
      ]
    },
    {
      "cell_type": "code",
      "execution_count": null,
      "metadata": {
        "id": "m9OHNwDf2YPA"
      },
      "outputs": [],
      "source": [
        "train_images = train_images.reshape(train_images.shape[0],\n",
        "                                 train_images.shape[1],\n",
        "                                 train_images.shape[2],\n",
        "                                 1)"
      ]
    },
    {
      "cell_type": "code",
      "execution_count": null,
      "metadata": {
        "colab": {
          "base_uri": "https://localhost:8080/"
        },
        "id": "ygUWkVR42dou",
        "outputId": "7e59d383-ca25-464e-c282-61d950c7297c"
      },
      "outputs": [
        {
          "output_type": "stream",
          "name": "stdout",
          "text": [
            "Epoch 1/5\n",
            "1875/1875 [==============================] - 20s 4ms/step - loss: 0.2385 - accuracy: 0.9571\n",
            "Epoch 2/5\n",
            "1875/1875 [==============================] - 6s 3ms/step - loss: 0.0624 - accuracy: 0.9818\n",
            "Epoch 3/5\n",
            "1875/1875 [==============================] - 6s 3ms/step - loss: 0.0531 - accuracy: 0.9848\n",
            "Epoch 4/5\n",
            "1875/1875 [==============================] - 6s 3ms/step - loss: 0.0529 - accuracy: 0.9858\n",
            "Epoch 5/5\n",
            "1875/1875 [==============================] - 6s 3ms/step - loss: 0.0466 - accuracy: 0.9876\n"
          ]
        },
        {
          "output_type": "execute_result",
          "data": {
            "text/plain": [
              "<keras.callbacks.History at 0x7fb73a66cc10>"
            ]
          },
          "metadata": {},
          "execution_count": 7
        }
      ],
      "source": [
        "model.fit(train_images, train_labels, epochs=5)"
      ]
    },
    {
      "cell_type": "code",
      "execution_count": null,
      "metadata": {
        "colab": {
          "base_uri": "https://localhost:8080/"
        },
        "id": "DvKU_h5H7Lt4",
        "outputId": "3a6b5ba6-5e41-417b-cd91-10ce06308102"
      },
      "outputs": [
        {
          "output_type": "stream",
          "name": "stdout",
          "text": [
            "313/313 [==============================] - 1s 2ms/step\n",
            "Scores para o objeto #0 no teste\n",
            "[2.5363981e-21 2.8517467e-15 5.7946176e-11 3.0286227e-16 3.5768354e-16\n",
            " 1.8608147e-21 4.8946518e-21 1.0000000e+00 5.4508762e-18 1.1718008e-13]\n",
            "Classe predicts =7\n"
          ]
        }
      ],
      "source": [
        "predictions = model.predict(test_images)\n",
        "print('Scores para o objeto #0 no teste')\n",
        "print(predictions[0])\n",
        "print('Classe predicts =' + str(np.argmax(predictions[0])))"
      ]
    },
    {
      "cell_type": "code",
      "execution_count": null,
      "metadata": {
        "colab": {
          "base_uri": "https://localhost:8080/",
          "height": 599
        },
        "id": "DLLc7putCNYQ",
        "outputId": "7f5f92f0-1749-408f-b87f-b1ae99ff72ce"
      },
      "outputs": [
        {
          "output_type": "display_data",
          "data": {
            "text/plain": [
              "<Figure size 576x576 with 2 Axes>"
            ],
            "image/png": "[encoded data removed]"
          },
          "metadata": {
            "needs_background": "light"
          }
        }
      ],
      "source": [
        "classes=[0,1,2,3,4,5,6,7,8,9]\n",
        "\n",
        "con_mat = tf.math.confusion_matrix(test_labels, predictions.argmax(axis=1)).numpy()\n",
        "con_mat_norm = np.around(con_mat.astype('float') / con_mat.sum(axis=1)[:, np.newaxis], decimals=2)\n",
        "\n",
        "con_mat_df = pd.DataFrame(con_mat_norm,\n",
        "                     index = classes, \n",
        "                     columns = classes)\n",
        "\n",
        "figure = plt.figure(figsize=(8, 8))\n",
        "sns.heatmap(con_mat_df, annot=True,cmap=plt.cm.Blues)\n",
        "plt.tight_layout()\n",
        "plt.ylabel('True label')\n",
        "plt.xlabel('Predicted label')\n",
        "plt.show()\n"
      ]
    },
    {
      "cell_type": "code",
      "execution_count": null,
      "metadata": {
        "colab": {
          "base_uri": "https://localhost:8080/"
        },
        "id": "LJoJQuCH3Ax6",
        "outputId": "abee6390-4bdb-4208-be87-a76e95a451cf"
      },
      "outputs": [
        {
          "output_type": "execute_result",
          "data": {
            "text/plain": [
              "array([[ 966,    2,    4,    0,    0,    0,    1,    0,    0,    7],\n",
              "       [   0, 1135,    0,    0,    0,    0,    0,    0,    0,    0],\n",
              "       [   0,   22, 1001,    0,    2,    0,    0,    7,    0,    0],\n",
              "       [   0,    0,    4,  991,    0,   11,    0,    2,    2,    0],\n",
              "       [   0,    1,    1,    0,  976,    0,    2,    1,    0,    1],\n",
              "       [   0,    0,    1,    6,    1,  879,    4,    0,    1,    0],\n",
              "       [   0,    3,    1,    0,    1,    4,  946,    0,    2,    1],\n",
              "       [   0,   25,   12,    0,    5,    0,    0,  986,    0,    0],\n",
              "       [   6,   12,    5,    1,    2,    4,    3,    2,  938,    1],\n",
              "       [   0,    9,    4,    0,   22,    4,    0,    3,    2,  965]])"
            ]
          },
          "metadata": {},
          "execution_count": 10
        }
      ],
      "source": [
        "from sklearn.metrics import classification_report, confusion_matrix\n",
        "\n",
        "conf_mx = confusion_matrix(test_labels, predictions.argmax(axis=1))\n",
        "conf_mx"
      ]
    },
    {
      "cell_type": "markdown",
      "metadata": {
        "id": "TcKZL-FCkH68"
      },
      "source": [
        "### Verdadeiros positivos (VP)"
      ]
    },
    {
      "cell_type": "code",
      "execution_count": null,
      "metadata": {
        "colab": {
          "base_uri": "https://localhost:8080/"
        },
        "id": "_tkH-gR5ilgp",
        "outputId": "02af914e-4cb4-4eac-dcd7-048f462e5a7c"
      },
      "outputs": [
        {
          "output_type": "execute_result",
          "data": {
            "text/plain": [
              "array([ 966, 1135, 1001,  991,  976,  879,  946,  986,  938,  965])"
            ]
          },
          "metadata": {},
          "execution_count": 11
        }
      ],
      "source": [
        "#Obtendo os elementos da diagonal principal da matriz de confusão, os verdadeiros positivos (TP) por classe\n",
        "\n",
        "vp = conf_mx.diagonal()\n",
        "vp"
      ]
    },
    {
      "cell_type": "markdown",
      "metadata": {
        "id": "vHlEZ3v0_ly8"
      },
      "source": [
        "### Verdadeiros negativos (VN)"
      ]
    },
    {
      "cell_type": "code",
      "execution_count": null,
      "metadata": {
        "colab": {
          "base_uri": "https://localhost:8080/"
        },
        "id": "hU3L4WYp_W5H",
        "outputId": "fb043431-db57-4458-c5e8-2c6eb2bb0304"
      },
      "outputs": [
        {
          "output_type": "execute_result",
          "data": {
            "text/plain": [
              "array([8817, 8648, 8782, 8792, 8807, 8904, 8837, 8797, 8845, 8818])"
            ]
          },
          "metadata": {},
          "execution_count": 12
        }
      ],
      "source": [
        "#Verdadeiros negativos: a soma dos elementos da diagonal principal menos o verdadeiro positivo da classe\n",
        "\n",
        "vn = np.array([np.concatenate((vp[:i], vp[i+1:])).sum() for i in range(10)])\n",
        "vn"
      ]
    },
    {
      "cell_type": "markdown",
      "metadata": {
        "id": "KfI2M0wOTUEo"
      },
      "source": [
        "### Falsos negativos (FN)"
      ]
    },
    {
      "cell_type": "code",
      "execution_count": null,
      "metadata": {
        "colab": {
          "base_uri": "https://localhost:8080/"
        },
        "id": "WycUmRrdTxLu",
        "outputId": "0e6e34eb-515b-4faa-e2b8-b89f85ebb62b"
      },
      "outputs": [
        {
          "output_type": "execute_result",
          "data": {
            "text/plain": [
              "array([14,  0, 31, 19,  6, 13, 12, 42, 36, 44])"
            ]
          },
          "metadata": {},
          "execution_count": 13
        }
      ],
      "source": [
        "#Falsos negativos: somatório das colunas menos o elemento da diagonal principal\n",
        "\n",
        "fn = conf_mx.sum(axis=1) - vp\n",
        "fn"
      ]
    },
    {
      "cell_type": "markdown",
      "metadata": {
        "id": "l8zl3UOmT9qR"
      },
      "source": [
        "### Falsos positivos (FP)"
      ]
    },
    {
      "cell_type": "code",
      "execution_count": null,
      "metadata": {
        "colab": {
          "base_uri": "https://localhost:8080/"
        },
        "id": "61_3dWO7UB8Q",
        "outputId": "e28149f4-e1e7-46ea-c18e-9752374de5c9"
      },
      "outputs": [
        {
          "output_type": "execute_result",
          "data": {
            "text/plain": [
              "array([ 6, 74, 32,  7, 33, 23, 10, 15,  7, 10])"
            ]
          },
          "metadata": {},
          "execution_count": 14
        }
      ],
      "source": [
        "#Falso negativos: soma dos elementos das linhas menos o elemento da diagonal principal\n",
        "\n",
        "fp = conf_mx.sum(axis=0) - vp\n",
        "fp"
      ]
    },
    {
      "cell_type": "markdown",
      "metadata": {
        "id": "xr_YnlDStArn"
      },
      "source": [
        "### Sensibilidade (recall ou revocação)\n",
        "# VP / (VP+FN)"
      ]
    },
    {
      "cell_type": "code",
      "execution_count": null,
      "metadata": {
        "colab": {
          "base_uri": "https://localhost:8080/"
        },
        "id": "Wh9FsVZITjLh",
        "outputId": "1ce234da-3050-4296-a2ae-8da01e143216"
      },
      "outputs": [
        {
          "output_type": "execute_result",
          "data": {
            "text/plain": [
              "array([0.98571429, 1.        , 0.96996124, 0.98118812, 0.99389002,\n",
              "       0.98542601, 0.9874739 , 0.95914397, 0.96303901, 0.95639247])"
            ]
          },
          "metadata": {},
          "execution_count": 15
        }
      ],
      "source": [
        "sensibilidade = vp / (vp + fn)\n",
        "sensibilidade"
      ]
    },
    {
      "cell_type": "markdown",
      "metadata": {
        "id": "nszTnWFgRzVO"
      },
      "source": [
        "### Especificidade\n",
        "# VN / (FP+VN)"
      ]
    },
    {
      "cell_type": "code",
      "execution_count": null,
      "metadata": {
        "colab": {
          "base_uri": "https://localhost:8080/"
        },
        "id": "9sNk2ScHR_IB",
        "outputId": "a37d2782-3292-40c2-8814-31606c185b48"
      },
      "outputs": [
        {
          "output_type": "execute_result",
          "data": {
            "text/plain": [
              "array([0.99931996, 0.99151571, 0.99636941, 0.99920446, 0.99626697,\n",
              "       0.99742355, 0.99886967, 0.99829778, 0.99920922, 0.99886724])"
            ]
          },
          "metadata": {},
          "execution_count": 16
        }
      ],
      "source": [
        "especificidade = vn / (fp + vn)\n",
        "especificidade"
      ]
    },
    {
      "cell_type": "markdown",
      "metadata": {
        "id": "3LkHz3euSEgN"
      },
      "source": [
        "### Acurácia\n",
        "# (VP+VN) / N"
      ]
    },
    {
      "cell_type": "code",
      "execution_count": null,
      "metadata": {
        "colab": {
          "base_uri": "https://localhost:8080/"
        },
        "id": "OzQ_U5gCSPNk",
        "outputId": "f46468ac-4f01-47f2-944f-3dbf8c05fbe2"
      },
      "outputs": [
        {
          "output_type": "execute_result",
          "data": {
            "text/plain": [
              "array([0.99795981, 0.99249264, 0.99360146, 0.99734937, 0.99602932,\n",
              "       0.99633364, 0.99775625, 0.99420732, 0.99562386, 0.99451052])"
            ]
          },
          "metadata": {},
          "execution_count": 17
        }
      ],
      "source": [
        "n = vp + vn + fp + fn\n",
        "acuracia = (vp + vn) / n\n",
        "acuracia"
      ]
    },
    {
      "cell_type": "markdown",
      "metadata": {
        "id": "N6G4-3-NnRkR"
      },
      "source": [
        "### Precisão \n",
        "# VP / (VP+FP)"
      ]
    },
    {
      "cell_type": "code",
      "execution_count": null,
      "metadata": {
        "colab": {
          "base_uri": "https://localhost:8080/"
        },
        "id": "cPuEqnvunnIh",
        "outputId": "1325c5fe-0389-490f-f1c8-9c21d009a697"
      },
      "outputs": [
        {
          "output_type": "stream",
          "name": "stdout",
          "text": [
            "[0.99382716 0.93879239 0.96902227 0.99298597 0.96729435 0.97450111\n",
            " 0.98953975 0.98501499 0.99259259 0.98974359]\n"
          ]
        }
      ],
      "source": [
        "precisao = vp / (vp + fp)\n",
        "print(precisao)"
      ]
    },
    {
      "cell_type": "markdown",
      "metadata": {
        "id": "8LI0WSWx728N"
      },
      "source": [
        "### F-score\n",
        "# 2 x (PxS) / (P+S)"
      ]
    },
    {
      "cell_type": "code",
      "execution_count": null,
      "metadata": {
        "colab": {
          "base_uri": "https://localhost:8080/"
        },
        "id": "e1HsFh8f71zf",
        "outputId": "2b3fbb22-579e-43b6-9b4d-e32454d56515"
      },
      "outputs": [
        {
          "output_type": "execute_result",
          "data": {
            "text/plain": [
              "array([0.9897541 , 0.96843003, 0.96949153, 0.98705179, 0.98041185,\n",
              "       0.97993311, 0.98850575, 0.97190734, 0.9775925 , 0.97278226])"
            ]
          },
          "metadata": {},
          "execution_count": 19
        }
      ],
      "source": [
        "f_score = 2*(sensibilidade*precisao)/(sensibilidade+precisao)\n",
        "f_score"
      ]
    },
    {
      "cell_type": "code",
      "execution_count": null,
      "metadata": {
        "colab": {
          "base_uri": "https://localhost:8080/",
          "height": 363
        },
        "id": "RGiJK3-qVsnS",
        "outputId": "0c2d65ce-929f-4e2e-8fb1-042b69b46475"
      },
      "outputs": [
        {
          "output_type": "execute_result",
          "data": {
            "text/plain": [
              "   precisao  sensibilidade  acuracia  especificidade   f_score\n",
              "0  0.993827       0.985714  0.997960        0.999320  0.989754\n",
              "1  0.938792       1.000000  0.992493        0.991516  0.968430\n",
              "2  0.969022       0.969961  0.993601        0.996369  0.969492\n",
              "3  0.992986       0.981188  0.997349        0.999204  0.987052\n",
              "4  0.967294       0.993890  0.996029        0.996267  0.980412\n",
              "5  0.974501       0.985426  0.996334        0.997424  0.979933\n",
              "6  0.989540       0.987474  0.997756        0.998870  0.988506\n",
              "7  0.985015       0.959144  0.994207        0.998298  0.971907\n",
              "8  0.992593       0.963039  0.995624        0.999209  0.977592\n",
              "9  0.989744       0.956392  0.994511        0.998867  0.972782"
            ],
            "text/html": [
              "\n",
              "  <div id=\"df-953c3fab-87e0-4ac7-b051-a7651422ca14\">\n",
              "    <div class=\"colab-df-container\">\n",
              "      <div>\n",
              "<style scoped>\n",
              "    .dataframe tbody tr th:only-of-type {\n",
              "        vertical-align: middle;\n",
              "    }\n",
              "\n",
              "    .dataframe tbody tr th {\n",
              "        vertical-align: top;\n",
              "    }\n",
              "\n",
              "    .dataframe thead th {\n",
              "        text-align: right;\n",
              "    }\n",
              "</style>\n",
              "<table border=\"1\" class=\"dataframe\">\n",
              "  <thead>\n",
              "    <tr style=\"text-align: right;\">\n",
              "      <th></th>\n",
              "      <th>precisao</th>\n",
              "      <th>sensibilidade</th>\n",
              "      <th>acuracia</th>\n",
              "      <th>especificidade</th>\n",
              "      <th>f_score</th>\n",
              "    </tr>\n",
              "  </thead>\n",
              "  <tbody>\n",
              "    <tr>\n",
              "      <th>0</th>\n",
              "      <td>0.993827</td>\n",
              "      <td>0.985714</td>\n",
              "      <td>0.997960</td>\n",
              "      <td>0.999320</td>\n",
              "      <td>0.989754</td>\n",
              "    </tr>\n",
              "    <tr>\n",
              "      <th>1</th>\n",
              "      <td>0.938792</td>\n",
              "      <td>1.000000</td>\n",
              "      <td>0.992493</td>\n",
              "      <td>0.991516</td>\n",
              "      <td>0.968430</td>\n",
              "    </tr>\n",
              "    <tr>\n",
              "      <th>2</th>\n",
              "      <td>0.969022</td>\n",
              "      <td>0.969961</td>\n",
              "      <td>0.993601</td>\n",
              "      <td>0.996369</td>\n",
              "      <td>0.969492</td>\n",
              "    </tr>\n",
              "    <tr>\n",
              "      <th>3</th>\n",
              "      <td>0.992986</td>\n",
              "      <td>0.981188</td>\n",
              "      <td>0.997349</td>\n",
              "      <td>0.999204</td>\n",
              "      <td>0.987052</td>\n",
              "    </tr>\n",
              "    <tr>\n",
              "      <th>4</th>\n",
              "      <td>0.967294</td>\n",
              "      <td>0.993890</td>\n",
              "      <td>0.996029</td>\n",
              "      <td>0.996267</td>\n",
              "      <td>0.980412</td>\n",
              "    </tr>\n",
              "    <tr>\n",
              "      <th>5</th>\n",
              "      <td>0.974501</td>\n",
              "      <td>0.985426</td>\n",
              "      <td>0.996334</td>\n",
              "      <td>0.997424</td>\n",
              "      <td>0.979933</td>\n",
              "    </tr>\n",
              "    <tr>\n",
              "      <th>6</th>\n",
              "      <td>0.989540</td>\n",
              "      <td>0.987474</td>\n",
              "      <td>0.997756</td>\n",
              "      <td>0.998870</td>\n",
              "      <td>0.988506</td>\n",
              "    </tr>\n",
              "    <tr>\n",
              "      <th>7</th>\n",
              "      <td>0.985015</td>\n",
              "      <td>0.959144</td>\n",
              "      <td>0.994207</td>\n",
              "      <td>0.998298</td>\n",
              "      <td>0.971907</td>\n",
              "    </tr>\n",
              "    <tr>\n",
              "      <th>8</th>\n",
              "      <td>0.992593</td>\n",
              "      <td>0.963039</td>\n",
              "      <td>0.995624</td>\n",
              "      <td>0.999209</td>\n",
              "      <td>0.977592</td>\n",
              "    </tr>\n",
              "    <tr>\n",
              "      <th>9</th>\n",
              "      <td>0.989744</td>\n",
              "      <td>0.956392</td>\n",
              "      <td>0.994511</td>\n",
              "      <td>0.998867</td>\n",
              "      <td>0.972782</td>\n",
              "    </tr>\n",
              "  </tbody>\n",
              "</table>\n",
              "</div>\n",
              "      <button class=\"colab-df-convert\" onclick=\"convertToInteractive('df-953c3fab-87e0-4ac7-b051-a7651422ca14')\"\n",
              "              title=\"Convert this dataframe to an interactive table.\"\n",
              "              style=\"display:none;\">\n",
              "        \n",
              "  <svg xmlns=\"http://www.w3.org/2000/svg\" height=\"24px\"viewBox=\"0 0 24 24\"\n",
              "       width=\"24px\">\n",
              "    <path d=\"M0 0h24v24H0V0z\" fill=\"none\"/>\n",
              "    <path d=\"M18.56 5.44l.94 2.06.94-2.06 2.06-.94-2.06-.94-.94-2.06-.94 2.06-2.06.94zm-11 1L8.5 8.5l.94-2.06 2.06-.94-2.06-.94L8.5 2.5l-.94 2.06-2.06.94zm10 10l.94 2.06.94-2.06 2.06-.94-2.06-.94-.94-2.06-.94 2.06-2.06.94z\"/><path d=\"M17.41 7.96l-1.37-1.37c-.4-.4-.92-.59-1.43-.59-.52 0-1.04.2-1.43.59L10.3 9.45l-7.72 7.72c-.78.78-.78 2.05 0 2.83L4 21.41c.39.39.9.59 1.41.59.51 0 1.02-.2 1.41-.59l7.78-7.78 2.81-2.81c.8-.78.8-2.07 0-2.86zM5.41 20L4 18.59l7.72-7.72 1.47 1.35L5.41 20z\"/>\n",
              "  </svg>\n",
              "      </button>\n",
              "      \n",
              "  <style>\n",
              "    .colab-df-container {\n",
              "      display:flex;\n",
              "      flex-wrap:wrap;\n",
              "      gap: 12px;\n",
              "    }\n",
              "\n",
              "    .colab-df-convert {\n",
              "      background-color: #E8F0FE;\n",
              "      border: none;\n",
              "      border-radius: 50%;\n",
              "      cursor: pointer;\n",
              "      display: none;\n",
              "      fill: #1967D2;\n",
              "      height: 32px;\n",
              "      padding: 0 0 0 0;\n",
              "      width: 32px;\n",
              "    }\n",
              "\n",
              "    .colab-df-convert:hover {\n",
              "      background-color: #E2EBFA;\n",
              "      box-shadow: 0px 1px 2px rgba(60, 64, 67, 0.3), 0px 1px 3px 1px rgba(60, 64, 67, 0.15);\n",
              "      fill: #174EA6;\n",
              "    }\n",
              "\n",
              "    [theme=dark] .colab-df-convert {\n",
              "      background-color: #3B4455;\n",
              "      fill: #D2E3FC;\n",
              "    }\n",
              "\n",
              "    [theme=dark] .colab-df-convert:hover {\n",
              "      background-color: #434B5C;\n",
              "      box-shadow: 0px 1px 3px 1px rgba(0, 0, 0, 0.15);\n",
              "      filter: drop-shadow(0px 1px 2px rgba(0, 0, 0, 0.3));\n",
              "      fill: #FFFFFF;\n",
              "    }\n",
              "  </style>\n",
              "\n",
              "      <script>\n",
              "        const buttonEl =\n",
              "          document.querySelector('#df-953c3fab-87e0-4ac7-b051-a7651422ca14 button.colab-df-convert');\n",
              "        buttonEl.style.display =\n",
              "          google.colab.kernel.accessAllowed ? 'block' : 'none';\n",
              "\n",
              "        async function convertToInteractive(key) {\n",
              "          const element = document.querySelector('#df-953c3fab-87e0-4ac7-b051-a7651422ca14');\n",
              "          const dataTable =\n",
              "            await google.colab.kernel.invokeFunction('convertToInteractive',\n",
              "                                                     [key], {});\n",
              "          if (!dataTable) return;\n",
              "\n",
              "          const docLinkHtml = 'Like what you see? Visit the ' +\n",
              "            '<a target=\"_blank\" href=https://colab.research.google.com/notebooks/data_table.ipynb>data table notebook</a>'\n",
              "            + ' to learn more about interactive tables.';\n",
              "          element.innerHTML = '';\n",
              "          dataTable['output_type'] = 'display_data';\n",
              "          await google.colab.output.renderOutput(dataTable, element);\n",
              "          const docLink = document.createElement('div');\n",
              "          docLink.innerHTML = docLinkHtml;\n",
              "          element.appendChild(docLink);\n",
              "        }\n",
              "      </script>\n",
              "    </div>\n",
              "  </div>\n",
              "  "
            ]
          },
          "metadata": {},
          "execution_count": 20
        }
      ],
      "source": [
        "#precisao, sensibilidade, acuracia, especificidade e f_score por classes\n",
        "data = np.array([precisao, sensibilidade, acuracia, especificidade, f_score]).T\n",
        "\n",
        "\n",
        "pd.DataFrame(\n",
        "    columns=['precisao', 'sensibilidade', 'acuracia', 'especificidade', 'f_score'], \n",
        "    data=data\n",
        "    )\n"
      ]
    },
    {
      "cell_type": "code",
      "execution_count": null,
      "metadata": {
        "colab": {
          "base_uri": "https://localhost:8080/"
        },
        "id": "mCHn5aaQplZg",
        "outputId": "45348f10-0c9e-47e3-d905-f5db5811ca2e"
      },
      "outputs": [
        {
          "output_type": "stream",
          "name": "stdout",
          "text": [
            "              precision    recall  f1-score   support\n",
            "\n",
            "           0       0.99      0.99      0.99       980\n",
            "           1       0.94      1.00      0.97      1135\n",
            "           2       0.97      0.97      0.97      1032\n",
            "           3       0.99      0.98      0.99      1010\n",
            "           4       0.97      0.99      0.98       982\n",
            "           5       0.97      0.99      0.98       892\n",
            "           6       0.99      0.99      0.99       958\n",
            "           7       0.99      0.96      0.97      1028\n",
            "           8       0.99      0.96      0.98       974\n",
            "           9       0.99      0.96      0.97      1009\n",
            "\n",
            "    accuracy                           0.98     10000\n",
            "   macro avg       0.98      0.98      0.98     10000\n",
            "weighted avg       0.98      0.98      0.98     10000\n",
            "\n"
          ]
        }
      ],
      "source": [
        "print(classification_report(test_labels, predictions.argmax(axis=1),\n",
        "                            target_names=[l for l in '0123456789']))"
      ]
    },
    {
      "cell_type": "code",
      "source": [
        "y_score = model.predict(test_images)"
      ],
      "metadata": {
        "colab": {
          "base_uri": "https://localhost:8080/"
        },
        "id": "gThJQDgy_Cs4",
        "outputId": "46edbf4e-e6f3-42b9-d6f3-fedae81ae949"
      },
      "execution_count": null,
      "outputs": [
        {
          "output_type": "stream",
          "name": "stdout",
          "text": [
            "313/313 [==============================] - 1s 2ms/step\n"
          ]
        }
      ]
    },
    {
      "cell_type": "code",
      "source": [
        "test_labels"
      ],
      "metadata": {
        "colab": {
          "base_uri": "https://localhost:8080/"
        },
        "id": "tz6YIqPfLqAv",
        "outputId": "0fb97664-3df8-4897-cde6-3436344f3cb3"
      },
      "execution_count": null,
      "outputs": [
        {
          "output_type": "execute_result",
          "data": {
            "text/plain": [
              "array([7, 2, 1, ..., 4, 5, 6], dtype=uint8)"
            ]
          },
          "metadata": {},
          "execution_count": 23
        }
      ]
    },
    {
      "cell_type": "markdown",
      "source": [
        "### Curva ROC"
      ],
      "metadata": {
        "id": "MSUYQ-M-AC0x"
      }
    },
    {
      "cell_type": "code",
      "source": [
        "from sklearn.preprocessing import OneHotEncoder\n",
        "labels =  OneHotEncoder().fit_transform(test_labels.reshape(-1,1)).toarray()"
      ],
      "metadata": {
        "id": "6hJV2SdVM-Yu"
      },
      "execution_count": null,
      "outputs": []
    },
    {
      "cell_type": "code",
      "source": [
        "from scipy import interp\n",
        "from itertools import cycle\n",
        "from sklearn.metrics import roc_curve, auc\n",
        "\n",
        "# Calculo da curva ROC e a área para cada classe\n",
        "fpr = dict()\n",
        "tpr = dict()\n",
        "roc_auc = dict()\n",
        "for i in range(10):\n",
        "    fpr[i], tpr[i], _ = roc_curve(labels[:, i], y_score[:, i])\n",
        "    roc_auc[i] = auc(fpr[i], tpr[i])"
      ],
      "metadata": {
        "id": "XAR-ugpC_CqR"
      },
      "execution_count": null,
      "outputs": []
    },
    {
      "cell_type": "code",
      "source": [
        "# Calculo da curva ROC de e da área abaixo da curva\n",
        "fpr[\"micro\"], tpr[\"micro\"], _ = roc_curve(labels.ravel(), y_score.ravel())\n",
        "roc_auc[\"micro\"] = auc(fpr[\"micro\"], tpr[\"micro\"])"
      ],
      "metadata": {
        "id": "UGs0SyRi_Cn3"
      },
      "execution_count": null,
      "outputs": []
    },
    {
      "cell_type": "code",
      "source": [
        "# Agrega as taxas de falsos positivos\n",
        "all_fpr = np.unique(np.concatenate([fpr[i] for i in range(10)]))"
      ],
      "metadata": {
        "id": "a3tC_XBk_Clf"
      },
      "execution_count": null,
      "outputs": []
    },
    {
      "cell_type": "code",
      "source": [
        "# interpola todas as curvas ROC nestes pontos\n",
        "mean_tpr = np.zeros_like(all_fpr)\n",
        "for i in range(10):\n",
        "    mean_tpr += np.interp(all_fpr, fpr[i], tpr[i])"
      ],
      "metadata": {
        "id": "Vf131YomOvEf"
      },
      "execution_count": null,
      "outputs": []
    },
    {
      "cell_type": "code",
      "source": [
        "# Caculo da média\n",
        "mean_tpr /= 10\n",
        "\n",
        "fpr[\"macro\"] = all_fpr\n",
        "tpr[\"macro\"] = mean_tpr\n",
        "roc_auc[\"macro\"] = auc(fpr[\"macro\"], tpr[\"macro\"])"
      ],
      "metadata": {
        "id": "pK5EyMIJPBpA"
      },
      "execution_count": null,
      "outputs": []
    },
    {
      "cell_type": "code",
      "source": [
        "# Plotar todas as curvas ROC\n",
        "plt.figure(figsize=(12,8))\n",
        "\n",
        "colors = cycle(['blue', 'orange', 'green', 'red', 'purple', 'brown', 'pink', 'gray', 'olive', 'cyan'])\n",
        "for i, color in zip(range(10), colors):\n",
        "    plt.plot(fpr[i], tpr[i], color=color, lw=2,\n",
        "             label='ROC curve of class {0} (area = {1:0.4f})'\n",
        "             ''.format(i, roc_auc[i]))\n",
        "\n",
        "\n",
        "plt.plot([0, 1], [0, 1], 'k--', lw=2)\n",
        "plt.xlim([0.0, 1.0])\n",
        "plt.ylim([0.0, 1.05])\n",
        "plt.xlabel('False Positive Rate')\n",
        "plt.ylabel('True Positive Rate')\n",
        "plt.title('Some extension of Receiver operating characteristic to multi-class')\n",
        "plt.legend(loc=\"lower right\")\n",
        "plt.show()"
      ],
      "metadata": {
        "colab": {
          "base_uri": "https://localhost:8080/",
          "height": 513
        },
        "id": "vVc2WvGTPD3q",
        "outputId": "a02e56af-1a07-4023-ef51-56e636d82be5"
      },
      "execution_count": null,
      "outputs": [
        {
          "output_type": "display_data",
          "data": {
            "text/plain": [
              "<Figure size 864x576 with 1 Axes>"
            ],
            "image/png": "[encoded data removed]"
          },
          "metadata": {
            "needs_background": "light"
          }
        }
      ]
    },
    {
      "cell_type": "code",
      "source": [
        "# Zoom do canto superior esquerdo\n",
        "plt.figure(figsize=(12,8))\n",
        "plt.xlim(0, 0.2)\n",
        "plt.ylim(0.8, 1)\n",
        "\n",
        "colors = cycle(['blue', 'orange', 'green', 'red', 'purple', 'brown', 'pink', 'gray', 'olive', 'cyan'])\n",
        "for i, color in zip(range(10), colors):\n",
        "    plt.plot(fpr[i], tpr[i], color=color, lw=2,\n",
        "             label='ROC curve of class {0} (area = {1:0.4f})'\n",
        "             ''.format(i, roc_auc[i]))\n",
        "\n",
        "plt.plot([0, 1], [0, 1], 'k--', lw=2)\n",
        "plt.xlabel('False Positive Rate')\n",
        "plt.ylabel('True Positive Rate')\n",
        "plt.title('Some extension of Receiver operating characteristic to multi-class')\n",
        "plt.legend(loc=\"lower right\")\n",
        "plt.show()"
      ],
      "metadata": {
        "colab": {
          "base_uri": "https://localhost:8080/",
          "height": 513
        },
        "id": "77fYI0r5_CjJ",
        "outputId": "1fbc0aaf-921a-470d-f20e-3c6574e8bb96"
      },
      "execution_count": null,
      "outputs": [
        {
          "output_type": "display_data",
          "data": {
            "text/plain": [
              "<Figure size 864x576 with 1 Axes>"
            ],
            "image/png": "[encoded data removed]"
          },
          "metadata": {
            "needs_background": "light"
          }
        }
      ]
    },
    {
      "cell_type": "code",
      "source": [
        "# Zom das médias micro e macro\n",
        "plt.figure(figsize=(12,8))\n",
        "plt.xlim(0, 0.2)\n",
        "plt.ylim(0.8, 1)\n",
        "\n",
        "plt.plot(fpr[\"micro\"], tpr[\"micro\"],\n",
        "         label='micro-average ROC curve (area = {0:0.4f})'\n",
        "               ''.format(roc_auc[\"micro\"]),\n",
        "         color='deeppink', linewidth=4)\n",
        "\n",
        "plt.plot(fpr[\"macro\"], tpr[\"macro\"],\n",
        "         label='macro-average ROC curve (area = {0:0.4f})'\n",
        "               ''.format(roc_auc[\"macro\"]),\n",
        "         color='navy', linewidth=4)\n",
        "\n",
        "plt.plot([0, 1], [0, 1], 'k--', lw=2)\n",
        "plt.xlabel('False Positive Rate')\n",
        "plt.ylabel('True Positive Rate')\n",
        "plt.title('Some extension of Receiver operating characteristic to multi-class')\n",
        "plt.legend(loc=\"lower right\")\n",
        "plt.show()"
      ],
      "metadata": {
        "colab": {
          "base_uri": "https://localhost:8080/",
          "height": 513
        },
        "id": "OXiPJvW6ji1j",
        "outputId": "a5e3066e-a585-47c2-c445-424e8241269c"
      },
      "execution_count": null,
      "outputs": [
        {
          "output_type": "display_data",
          "data": {
            "text/plain": [
              "<Figure size 864x576 with 1 Axes>"
            ],
            "image/png": "[encoded data removed]"
          },
          "metadata": {
            "needs_background": "light"
          }
        }
      ]
    },
    {
      "cell_type": "code",
      "source": [],
      "metadata": {
        "id": "8Svt7M71_Cg5"
      },
      "execution_count": null,
      "outputs": []
    }
  ],
  "metadata": {
    "colab": {
      "provenance": [],
      "authorship_tag": "ABX9TyNHlNYF1Ds3KjWRmnsOzMLO",
      "include_colab_link": true
    },
    "kernelspec": {
      "display_name": "Python 3",
      "name": "python3"
    },
    "language_info": {
      "name": "python"
    },
    "accelerator": "GPU",
    "gpuClass": "standard"
  },
  "nbformat": 4,
  "nbformat_minor": 0
}